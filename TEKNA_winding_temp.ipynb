{
  "nbformat": 4,
  "nbformat_minor": 0,
  "metadata": {
    "colab": {
      "name": "TEKNA_winding_temp.ipynb",
      "version": "0.3.2",
      "provenance": [],
      "include_colab_link": true
    },
    "kernelspec": {
      "name": "python3",
      "display_name": "Python 3"
    }
  },
  "cells": [
    {
      "cell_type": "markdown",
      "metadata": {
        "id": "view-in-github",
        "colab_type": "text"
      },
      "source": [
        "<a href=\"https://colab.research.google.com/github/cognitedata/TEKNA-WorkShop-PredictiveMaintenance/blob/master/TEKNA_winding_temp.ipynb\" target=\"_parent\"><img src=\"https://colab.research.google.com/assets/colab-badge.svg\" alt=\"Open In Colab\"/></a>"
      ]
    },
    {
      "metadata": {
        "id": "_C9cFyP8QjVG",
        "colab_type": "code",
        "colab": {
          "base_uri": "https://localhost:8080/",
          "height": 34
        },
        "outputId": "b8e5a8c5-b3cb-4c19-ac02-d92fc93ab638"
      },
      "cell_type": "code",
      "source": [
        "%pylab notebook\n",
        "import pandas as pd\n",
        "import datetime as dt\n"
      ],
      "execution_count": 1,
      "outputs": [
        {
          "output_type": "stream",
          "text": [
            "Populating the interactive namespace from numpy and matplotlib\n"
          ],
          "name": "stdout"
        }
      ]
    },
    {
      "metadata": {
        "id": "CTkGI5N1RNAc",
        "colab_type": "code",
        "colab": {}
      },
      "cell_type": "code",
      "source": [
        "url = 'https://raw.githubusercontent.com/cognitedata/TEKNA-WorkShop-PredictiveMaintenance/master/data_winding_temp.csv'\n",
        "df = pd.read_csv(url)"
      ],
      "execution_count": 0,
      "outputs": []
    },
    {
      "metadata": {
        "id": "Wpi-gVYFSJ7M",
        "colab_type": "code",
        "outputId": "dd0b7cf7-2a2f-4e47-b035-e836795b6d9f",
        "colab": {
          "base_uri": "https://localhost:8080/",
          "height": 204
        }
      },
      "cell_type": "code",
      "source": [
        "df.head()"
      ],
      "execution_count": 3,
      "outputs": [
        {
          "output_type": "execute_result",
          "data": {
            "text/html": [
              "<div>\n",
              "<style scoped>\n",
              "    .dataframe tbody tr th:only-of-type {\n",
              "        vertical-align: middle;\n",
              "    }\n",
              "\n",
              "    .dataframe tbody tr th {\n",
              "        vertical-align: top;\n",
              "    }\n",
              "\n",
              "    .dataframe thead th {\n",
              "        text-align: right;\n",
              "    }\n",
              "</style>\n",
              "<table border=\"1\" class=\"dataframe\">\n",
              "  <thead>\n",
              "    <tr style=\"text-align: right;\">\n",
              "      <th></th>\n",
              "      <th>timestamp</th>\n",
              "      <th>stator_u</th>\n",
              "      <th>stator_v</th>\n",
              "      <th>stator_w</th>\n",
              "      <th>speed</th>\n",
              "    </tr>\n",
              "  </thead>\n",
              "  <tbody>\n",
              "    <tr>\n",
              "      <th>0</th>\n",
              "      <td>1512086400000</td>\n",
              "      <td>51.598788</td>\n",
              "      <td>54.152083</td>\n",
              "      <td>50.854405</td>\n",
              "      <td>10062.486783</td>\n",
              "    </tr>\n",
              "    <tr>\n",
              "      <th>1</th>\n",
              "      <td>1512087300000</td>\n",
              "      <td>51.581399</td>\n",
              "      <td>54.152083</td>\n",
              "      <td>50.858611</td>\n",
              "      <td>10062.623458</td>\n",
              "    </tr>\n",
              "    <tr>\n",
              "      <th>2</th>\n",
              "      <td>1512088200000</td>\n",
              "      <td>51.566755</td>\n",
              "      <td>54.147916</td>\n",
              "      <td>50.849778</td>\n",
              "      <td>10061.890669</td>\n",
              "    </tr>\n",
              "    <tr>\n",
              "      <th>3</th>\n",
              "      <td>1512089100000</td>\n",
              "      <td>51.594999</td>\n",
              "      <td>54.176974</td>\n",
              "      <td>50.891986</td>\n",
              "      <td>10069.210826</td>\n",
              "    </tr>\n",
              "    <tr>\n",
              "      <th>4</th>\n",
              "      <td>1512090000000</td>\n",
              "      <td>51.573844</td>\n",
              "      <td>54.125803</td>\n",
              "      <td>50.892645</td>\n",
              "      <td>10064.812260</td>\n",
              "    </tr>\n",
              "  </tbody>\n",
              "</table>\n",
              "</div>"
            ],
            "text/plain": [
              "       timestamp   stator_u   stator_v   stator_w         speed\n",
              "0  1512086400000  51.598788  54.152083  50.854405  10062.486783\n",
              "1  1512087300000  51.581399  54.152083  50.858611  10062.623458\n",
              "2  1512088200000  51.566755  54.147916  50.849778  10061.890669\n",
              "3  1512089100000  51.594999  54.176974  50.891986  10069.210826\n",
              "4  1512090000000  51.573844  54.125803  50.892645  10064.812260"
            ]
          },
          "metadata": {
            "tags": []
          },
          "execution_count": 3
        }
      ]
    },
    {
      "metadata": {
        "id": "SAFHyl89hqxQ",
        "colab_type": "code",
        "colab": {}
      },
      "cell_type": "code",
      "source": [
        "anomalies = [\n",
        "    [1518192781296, 1518195966042],\n",
        "    [1518310590356, 1518312554282],\n",
        "    [1520083432249, 1520087280484],\n",
        "    [1520105141601, 1520109281770],\n",
        "    [1524064172374, 1524074504163],\n",
        "    [1524196294857, 1524197917651],\n",
        "    [1524222097282, 1524227344316]\n",
        "]"
      ],
      "execution_count": 0,
      "outputs": []
    }
  ]
}